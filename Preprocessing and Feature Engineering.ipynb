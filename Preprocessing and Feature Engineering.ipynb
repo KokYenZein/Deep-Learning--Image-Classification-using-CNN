{
 "cells": [
  {
   "cell_type": "code",
   "execution_count": 1,
   "id": "916f1d8c",
   "metadata": {},
   "outputs": [],
   "source": [
    "import tensorflow as tf\n",
    "from tensorflow.keras import models, layers\n",
    "import matplotlib.pyplot as plt"
   ]
  },
  {
   "cell_type": "code",
   "execution_count": 2,
   "id": "607ae0a2",
   "metadata": {},
   "outputs": [],
   "source": [
    "IMAGE_SIZE = 256\n",
    "BATCH_SIZE = 32\n",
    "CHANNELS = 3"
   ]
  },
  {
   "cell_type": "code",
   "execution_count": 3,
   "id": "7eb11059",
   "metadata": {},
   "outputs": [
    {
     "name": "stdout",
     "output_type": "stream",
     "text": [
      "Found 2152 files belonging to 3 classes.\n"
     ]
    }
   ],
   "source": [
    "dataset = tf.keras.preprocessing.image_dataset_from_directory(\n",
    "    \"data/PlantVillage\",\n",
    "    shuffle=True,\n",
    "    image_size = (IMAGE_SIZE, IMAGE_SIZE),\n",
    "    batch_size = BATCH_SIZE\n",
    ")"
   ]
  },
  {
   "cell_type": "code",
   "execution_count": 4,
   "id": "c2f39144",
   "metadata": {},
   "outputs": [
    {
     "data": {
      "text/plain": [
       "['Potato___Early_blight', 'Potato___Late_blight', 'Potato___healthy']"
      ]
     },
     "execution_count": 4,
     "metadata": {},
     "output_type": "execute_result"
    }
   ],
   "source": [
    "class_names = dataset.class_names\n",
    "class_names"
   ]
  },
  {
   "cell_type": "markdown",
   "id": "a35cd892",
   "metadata": {},
   "source": [
    "## Train Validation Test Split"
   ]
  },
  {
   "cell_type": "code",
   "execution_count": 5,
   "id": "19ada416",
   "metadata": {},
   "outputs": [],
   "source": [
    "# Train Validation Test Split\n",
    "# 80% Train, 10% Validation, 10% Test\n",
    "def get_dataset_partitions_tf(ds, train_split=0.8, val_split=0.1, test_split=0.1, shuffle=True, shuffle_size=10000):\n",
    "    ds_size = len(ds)\n",
    "    \n",
    "    if shuffle:\n",
    "        ds = ds.shuffle(shuffle_size)\n",
    "    \n",
    "    train_size = int(train_split * ds_size)\n",
    "    val_size = int(val_split * ds_size)\n",
    "    \n",
    "    train_ds = ds.take(train_size)\n",
    "    val_ds = ds.skip(train_size).take(val_size)\n",
    "    test_ds = ds.skip(train_size).skip(val_size)\n",
    "    \n",
    "    return train_ds, val_ds, test_ds"
   ]
  },
  {
   "cell_type": "code",
   "execution_count": 6,
   "id": "262d04eb",
   "metadata": {},
   "outputs": [],
   "source": [
    "train_ds, val_ds, test_ds = get_dataset_partitions_tf(dataset)"
   ]
  },
  {
   "cell_type": "markdown",
   "id": "63188f94",
   "metadata": {},
   "source": [
    "## Cache, Shuffle, and Prefetch the Dataset"
   ]
  },
  {
   "cell_type": "code",
   "execution_count": 7,
   "id": "e7e8d0c4",
   "metadata": {},
   "outputs": [],
   "source": [
    "train_ds = train_ds.cache().shuffle(1000).prefetch(buffer_size=tf.data.AUTOTUNE)\n",
    "val_ds = val_ds.cache().shuffle(1000).prefetch(buffer_size=tf.data.AUTOTUNE)\n",
    "test_ds = test_ds.cache().shuffle(1000).prefetch(buffer_size=tf.data.AUTOTUNE)"
   ]
  },
  {
   "cell_type": "markdown",
   "id": "d7ec4e5a",
   "metadata": {},
   "source": [
    "## Creating a Layer for Resizing and Normalization\n",
    "normalize each image for each pixel from the range of 0 to 1."
   ]
  },
  {
   "cell_type": "code",
   "execution_count": 8,
   "id": "b60cae49",
   "metadata": {},
   "outputs": [],
   "source": [
    "resize_and_rescale = tf.keras.Sequential([\n",
    "  layers.experimental.preprocessing.Resizing(IMAGE_SIZE, IMAGE_SIZE),\n",
    "  layers.experimental.preprocessing.Rescaling(1.0/255),\n",
    "])"
   ]
  },
  {
   "cell_type": "markdown",
   "id": "d6ef4505",
   "metadata": {},
   "source": [
    "Data Augmentation increases the accuracy of the model making it more robust to flipped, rotated, or zoomed images"
   ]
  },
  {
   "cell_type": "code",
   "execution_count": 9,
   "id": "6d38e556",
   "metadata": {},
   "outputs": [],
   "source": [
    "data_augmentation = tf.keras.Sequential([\n",
    "  layers.experimental.preprocessing.RandomFlip(\"horizontal_and_vertical\"),\n",
    "  layers.experimental.preprocessing.RandomRotation(0.2),\n",
    "])"
   ]
  },
  {
   "cell_type": "code",
   "execution_count": 13,
   "id": "8786d83c",
   "metadata": {},
   "outputs": [],
   "source": [
    "train_ds = train_ds.map(\n",
    "    lambda x, y: (data_augmentation(x, training = True), y)\n",
    ").prefetch(buffer_size = tf.data.AUTOTUNE)"
   ]
  },
  {
   "cell_type": "markdown",
   "id": "0a512a37",
   "metadata": {},
   "source": [
    "# Modelling\n",
    "Convulotion Neural Network is used with layers for resizing, normalization, and data augmentation"
   ]
  },
  {
   "cell_type": "code",
   "execution_count": 14,
   "id": "20a5951d",
   "metadata": {},
   "outputs": [],
   "source": [
    "input_shape = (BATCH_SIZE, IMAGE_SIZE, IMAGE_SIZE, CHANNELS)\n",
    "n_classes = 3"
   ]
  },
  {
   "cell_type": "code",
   "execution_count": 15,
   "id": "1a27be12",
   "metadata": {},
   "outputs": [],
   "source": [
    "model = models.Sequential([\n",
    "    resize_and_rescale,\n",
    "    data_augmentation,\n",
    "    layers.Conv2D(32, (3, 3), activation=\"relu\", input_shape = input_shape),\n",
    "    layers.MaxPooling2D((2, 2)),\n",
    "    layers.Conv2D(64,  kernel_size = (3,3), activation='relu'),\n",
    "    layers.MaxPooling2D((2, 2)),\n",
    "    layers.Conv2D(64,  kernel_size = (3,3), activation='relu'),\n",
    "    layers.MaxPooling2D((2, 2)),\n",
    "    layers.Conv2D(64, (3, 3), activation='relu'),\n",
    "    layers.MaxPooling2D((2, 2)),\n",
    "    layers.Conv2D(64, (3, 3), activation='relu'),\n",
    "    layers.MaxPooling2D((2, 2)),\n",
    "    layers.Conv2D(64, (3, 3), activation='relu'),\n",
    "    layers.MaxPooling2D((2, 2)),\n",
    "    layers.Flatten(),\n",
    "    layers.Dense(64, activation='relu'),\n",
    "    layers.Dense(n_classes, activation='softmax')\n",
    "])\n",
    "\n",
    "model.build(input_shape = input_shape)"
   ]
  },
  {
   "cell_type": "code",
   "execution_count": 16,
   "id": "db541e34",
   "metadata": {},
   "outputs": [
    {
     "name": "stdout",
     "output_type": "stream",
     "text": [
      "Model: \"sequential_3\"\n",
      "_________________________________________________________________\n",
      " Layer (type)                Output Shape              Param #   \n",
      "=================================================================\n",
      " sequential (Sequential)     (32, 256, 256, 3)         0         \n",
      "                                                                 \n",
      " sequential_1 (Sequential)   (None, 256, 256, 3)       0         \n",
      "                                                                 \n",
      " conv2d_6 (Conv2D)           (32, 254, 254, 32)        896       \n",
      "                                                                 \n",
      " max_pooling2d_6 (MaxPooling  (32, 127, 127, 32)       0         \n",
      " 2D)                                                             \n",
      "                                                                 \n",
      " conv2d_7 (Conv2D)           (32, 125, 125, 64)        18496     \n",
      "                                                                 \n",
      " max_pooling2d_7 (MaxPooling  (32, 62, 62, 64)         0         \n",
      " 2D)                                                             \n",
      "                                                                 \n",
      " conv2d_8 (Conv2D)           (32, 60, 60, 64)          36928     \n",
      "                                                                 \n",
      " max_pooling2d_8 (MaxPooling  (32, 30, 30, 64)         0         \n",
      " 2D)                                                             \n",
      "                                                                 \n",
      " conv2d_9 (Conv2D)           (32, 28, 28, 64)          36928     \n",
      "                                                                 \n",
      " max_pooling2d_9 (MaxPooling  (32, 14, 14, 64)         0         \n",
      " 2D)                                                             \n",
      "                                                                 \n",
      " conv2d_10 (Conv2D)          (32, 12, 12, 64)          36928     \n",
      "                                                                 \n",
      " max_pooling2d_10 (MaxPoolin  (32, 6, 6, 64)           0         \n",
      " g2D)                                                            \n",
      "                                                                 \n",
      " conv2d_11 (Conv2D)          (32, 4, 4, 64)            36928     \n",
      "                                                                 \n",
      " max_pooling2d_11 (MaxPoolin  (32, 2, 2, 64)           0         \n",
      " g2D)                                                            \n",
      "                                                                 \n",
      " flatten_1 (Flatten)         (32, 256)                 0         \n",
      "                                                                 \n",
      " dense_2 (Dense)             (32, 64)                  16448     \n",
      "                                                                 \n",
      " dense_3 (Dense)             (32, 3)                   195       \n",
      "                                                                 \n",
      "=================================================================\n",
      "Total params: 183,747\n",
      "Trainable params: 183,747\n",
      "Non-trainable params: 0\n",
      "_________________________________________________________________\n"
     ]
    }
   ],
   "source": [
    "model.summary()"
   ]
  },
  {
   "cell_type": "markdown",
   "id": "a0543618",
   "metadata": {},
   "source": [
    "## Model Compilation\n",
    "Optimizer: adam <br>\n",
    "Losses: SparseCategorialCrossentropy <br>\n",
    "Metric: Accuracy"
   ]
  },
  {
   "cell_type": "code",
   "execution_count": 17,
   "id": "fa378b48",
   "metadata": {},
   "outputs": [],
   "source": [
    "model.compile(\n",
    "    optimizer = 'adam',\n",
    "    loss = tf.keras.losses.SparseCategoricalCrossentropy(from_logits=False),\n",
    "    metrics = ['accuracy']\n",
    ")"
   ]
  },
  {
   "cell_type": "code",
   "execution_count": 19,
   "id": "39cc3ed7",
   "metadata": {},
   "outputs": [
    {
     "name": "stdout",
     "output_type": "stream",
     "text": [
      "Epoch 1/50\n",
      "54/54 [==============================] - 85s 1s/step - loss: 0.9304 - accuracy: 0.4525 - val_loss: 0.8589 - val_accuracy: 0.4479\n",
      "Epoch 2/50\n",
      "54/54 [==============================] - 52s 961ms/step - loss: 0.7573 - accuracy: 0.6203 - val_loss: 0.5792 - val_accuracy: 0.7448\n",
      "Epoch 3/50\n",
      "54/54 [==============================] - 47s 863ms/step - loss: 0.4951 - accuracy: 0.7911 - val_loss: 0.4038 - val_accuracy: 0.8385\n",
      "Epoch 4/50\n",
      "54/54 [==============================] - 46s 839ms/step - loss: 0.3486 - accuracy: 0.8539 - val_loss: 0.3130 - val_accuracy: 0.8802\n",
      "Epoch 5/50\n",
      "54/54 [==============================] - 47s 868ms/step - loss: 0.3009 - accuracy: 0.8703 - val_loss: 0.3274 - val_accuracy: 0.8906\n",
      "Epoch 6/50\n",
      "54/54 [==============================] - 45s 847ms/step - loss: 0.2438 - accuracy: 0.9038 - val_loss: 0.2556 - val_accuracy: 0.9010\n",
      "Epoch 7/50\n",
      "54/54 [==============================] - 44s 808ms/step - loss: 0.1934 - accuracy: 0.9219 - val_loss: 0.2370 - val_accuracy: 0.9583\n",
      "Epoch 8/50\n",
      "54/54 [==============================] - 50s 918ms/step - loss: 0.1931 - accuracy: 0.9249 - val_loss: 0.4009 - val_accuracy: 0.8750\n",
      "Epoch 9/50\n",
      "54/54 [==============================] - 49s 898ms/step - loss: 0.1873 - accuracy: 0.9296 - val_loss: 0.2873 - val_accuracy: 0.9271\n",
      "Epoch 10/50\n",
      "54/54 [==============================] - 46s 846ms/step - loss: 0.1942 - accuracy: 0.9237 - val_loss: 0.2619 - val_accuracy: 0.9010\n",
      "Epoch 11/50\n",
      "54/54 [==============================] - 54s 1s/step - loss: 0.1703 - accuracy: 0.9272 - val_loss: 0.3054 - val_accuracy: 0.8958\n",
      "Epoch 12/50\n",
      "54/54 [==============================] - 45s 825ms/step - loss: 0.1701 - accuracy: 0.9349 - val_loss: 0.2168 - val_accuracy: 0.9479\n",
      "Epoch 13/50\n",
      "54/54 [==============================] - 43s 789ms/step - loss: 0.1235 - accuracy: 0.9548 - val_loss: 0.2302 - val_accuracy: 0.9375\n",
      "Epoch 14/50\n",
      "54/54 [==============================] - 42s 774ms/step - loss: 0.1436 - accuracy: 0.9460 - val_loss: 0.2404 - val_accuracy: 0.9427\n",
      "Epoch 15/50\n",
      "54/54 [==============================] - 44s 807ms/step - loss: 0.1214 - accuracy: 0.9572 - val_loss: 0.2359 - val_accuracy: 0.9271\n",
      "Epoch 16/50\n",
      "54/54 [==============================] - 43s 799ms/step - loss: 0.1533 - accuracy: 0.9425 - val_loss: 0.1937 - val_accuracy: 0.9427\n",
      "Epoch 17/50\n",
      "54/54 [==============================] - 47s 865ms/step - loss: 0.1375 - accuracy: 0.9519 - val_loss: 0.1659 - val_accuracy: 0.9531\n",
      "Epoch 18/50\n",
      "54/54 [==============================] - 47s 860ms/step - loss: 0.0873 - accuracy: 0.9654 - val_loss: 0.1452 - val_accuracy: 0.9583\n",
      "Epoch 19/50\n",
      "54/54 [==============================] - 42s 768ms/step - loss: 0.0745 - accuracy: 0.9730 - val_loss: 0.1191 - val_accuracy: 0.9688\n",
      "Epoch 20/50\n",
      "54/54 [==============================] - 41s 758ms/step - loss: 0.0847 - accuracy: 0.9677 - val_loss: 0.1442 - val_accuracy: 0.9479\n",
      "Epoch 21/50\n",
      "54/54 [==============================] - 42s 769ms/step - loss: 0.0808 - accuracy: 0.9712 - val_loss: 0.8036 - val_accuracy: 0.7812\n",
      "Epoch 22/50\n",
      "54/54 [==============================] - 41s 758ms/step - loss: 0.1108 - accuracy: 0.9624 - val_loss: 0.2267 - val_accuracy: 0.9427\n",
      "Epoch 23/50\n",
      "54/54 [==============================] - 42s 769ms/step - loss: 0.0854 - accuracy: 0.9712 - val_loss: 0.1426 - val_accuracy: 0.9531\n",
      "Epoch 24/50\n",
      "54/54 [==============================] - 41s 759ms/step - loss: 0.0934 - accuracy: 0.9642 - val_loss: 0.1255 - val_accuracy: 0.9688\n",
      "Epoch 25/50\n",
      "54/54 [==============================] - 42s 768ms/step - loss: 0.1058 - accuracy: 0.9589 - val_loss: 0.0900 - val_accuracy: 0.9792\n",
      "Epoch 26/50\n",
      "54/54 [==============================] - 42s 772ms/step - loss: 0.0526 - accuracy: 0.9800 - val_loss: 0.2390 - val_accuracy: 0.9323\n",
      "Epoch 27/50\n",
      "54/54 [==============================] - 41s 754ms/step - loss: 0.0602 - accuracy: 0.9795 - val_loss: 0.3349 - val_accuracy: 0.8802\n",
      "Epoch 28/50\n",
      "54/54 [==============================] - 42s 767ms/step - loss: 0.0629 - accuracy: 0.9783 - val_loss: 0.0537 - val_accuracy: 0.9792\n",
      "Epoch 29/50\n",
      "54/54 [==============================] - 42s 772ms/step - loss: 0.0905 - accuracy: 0.9630 - val_loss: 0.0639 - val_accuracy: 0.9740\n",
      "Epoch 30/50\n",
      "54/54 [==============================] - 41s 755ms/step - loss: 0.1233 - accuracy: 0.9572 - val_loss: 0.1510 - val_accuracy: 0.9427\n",
      "Epoch 31/50\n",
      "54/54 [==============================] - 40s 745ms/step - loss: 0.0863 - accuracy: 0.9736 - val_loss: 0.0634 - val_accuracy: 0.9792\n",
      "Epoch 32/50\n",
      "54/54 [==============================] - 43s 785ms/step - loss: 0.0358 - accuracy: 0.9883 - val_loss: 0.0674 - val_accuracy: 0.9792\n",
      "Epoch 33/50\n",
      "54/54 [==============================] - 41s 752ms/step - loss: 0.0356 - accuracy: 0.9847 - val_loss: 0.0581 - val_accuracy: 0.9844\n",
      "Epoch 34/50\n",
      "54/54 [==============================] - 40s 745ms/step - loss: 0.0305 - accuracy: 0.9918 - val_loss: 0.4206 - val_accuracy: 0.9010\n",
      "Epoch 35/50\n",
      "54/54 [==============================] - 40s 743ms/step - loss: 0.0648 - accuracy: 0.9759 - val_loss: 0.1490 - val_accuracy: 0.9583\n",
      "Epoch 36/50\n",
      "54/54 [==============================] - 40s 743ms/step - loss: 0.0453 - accuracy: 0.9842 - val_loss: 0.0264 - val_accuracy: 0.9896\n",
      "Epoch 37/50\n",
      "54/54 [==============================] - 40s 729ms/step - loss: 0.0343 - accuracy: 0.9877 - val_loss: 0.1139 - val_accuracy: 0.9688\n",
      "Epoch 38/50\n",
      "54/54 [==============================] - 41s 758ms/step - loss: 0.0521 - accuracy: 0.9783 - val_loss: 0.1124 - val_accuracy: 0.9635\n",
      "Epoch 39/50\n",
      "54/54 [==============================] - 41s 755ms/step - loss: 0.0290 - accuracy: 0.9912 - val_loss: 0.0103 - val_accuracy: 1.0000\n",
      "Epoch 40/50\n",
      "54/54 [==============================] - 40s 733ms/step - loss: 0.0409 - accuracy: 0.9842 - val_loss: 0.0811 - val_accuracy: 0.9688\n",
      "Epoch 41/50\n",
      "54/54 [==============================] - 40s 729ms/step - loss: 0.0248 - accuracy: 0.9912 - val_loss: 0.0501 - val_accuracy: 0.9792\n",
      "Epoch 42/50\n",
      "54/54 [==============================] - 41s 753ms/step - loss: 0.0509 - accuracy: 0.9818 - val_loss: 0.0976 - val_accuracy: 0.9635\n",
      "Epoch 43/50\n",
      "54/54 [==============================] - 41s 760ms/step - loss: 0.0338 - accuracy: 0.9877 - val_loss: 0.0620 - val_accuracy: 0.9740\n",
      "Epoch 44/50\n",
      "54/54 [==============================] - 40s 734ms/step - loss: 0.0256 - accuracy: 0.9906 - val_loss: 0.0488 - val_accuracy: 0.9844\n",
      "Epoch 45/50\n",
      "54/54 [==============================] - 40s 738ms/step - loss: 0.0269 - accuracy: 0.9918 - val_loss: 0.1091 - val_accuracy: 0.9583\n",
      "Epoch 46/50\n",
      "54/54 [==============================] - 39s 712ms/step - loss: 0.0217 - accuracy: 0.9918 - val_loss: 0.0057 - val_accuracy: 1.0000\n",
      "Epoch 47/50\n",
      "54/54 [==============================] - 41s 746ms/step - loss: 0.0555 - accuracy: 0.9818 - val_loss: 0.1495 - val_accuracy: 0.9427\n",
      "Epoch 48/50\n",
      "54/54 [==============================] - 40s 735ms/step - loss: 0.0625 - accuracy: 0.9730 - val_loss: 0.0692 - val_accuracy: 0.9792\n",
      "Epoch 49/50\n",
      "54/54 [==============================] - 40s 740ms/step - loss: 0.0468 - accuracy: 0.9795 - val_loss: 0.0465 - val_accuracy: 0.9688\n",
      "Epoch 50/50\n",
      "54/54 [==============================] - 41s 763ms/step - loss: 0.0219 - accuracy: 0.9900 - val_loss: 0.0886 - val_accuracy: 0.9688\n"
     ]
    }
   ],
   "source": [
    "history = model.fit(\n",
    "    train_ds,\n",
    "    epochs = 50,\n",
    "    batch_size = BATCH_SIZE,\n",
    "    verbose = 1,\n",
    "    validation_data = val_ds\n",
    ")"
   ]
  },
  {
   "cell_type": "code",
   "execution_count": null,
   "id": "987f6b2d",
   "metadata": {},
   "outputs": [],
   "source": [
    "scores = model.evaluate(test_ds)"
   ]
  },
  {
   "cell_type": "code",
   "execution_count": null,
   "id": "d48ea980",
   "metadata": {},
   "outputs": [],
   "source": [
    "scores"
   ]
  },
  {
   "cell_type": "markdown",
   "id": "c198c929",
   "metadata": {},
   "source": [
    "100% accuracy is achieved with low loss"
   ]
  },
  {
   "cell_type": "markdown",
   "id": "1366efbb",
   "metadata": {},
   "source": [
    "Plotting Loss and Accuracy curves"
   ]
  },
  {
   "cell_type": "code",
   "execution_count": null,
   "id": "92597dda",
   "metadata": {},
   "outputs": [],
   "source": [
    "histroy.history.keys()"
   ]
  },
  {
   "cell_type": "code",
   "execution_count": null,
   "id": "70cc5903",
   "metadata": {},
   "outputs": [],
   "source": [
    "acc = history.history[\"accuracy\"]\n",
    "val_acc = history_history[\"val_accuracy\"]\n",
    "\n",
    "loss = history.history[\"loss\"]\n",
    "val_loss = history.history[\"val_loss\"]"
   ]
  },
  {
   "cell_type": "code",
   "execution_count": null,
   "id": "2e3e64d4",
   "metadata": {},
   "outputs": [],
   "source": [
    "plt.figure(figsize = (8,8))\n",
    "\n",
    "plt.subplot(1, 2, 1)\n",
    "plt.plot(range(50), acc, label = \"Training Accuracy\")\n",
    "plt.plot(range(50), val_acc, label = \"Validation Accuracy\")\n",
    "plt.legend(loc = \"lower right\")\n",
    "plt.title(\"Training and Validation Accuracy\")\n",
    "\n",
    "plt.subplot(1, 2, 2)\n",
    "plt.plot(range(50), loss, label = \"Training Loss\")\n",
    "plt.plot(range(50), val_loss, label = \"Validation Loss\")\n",
    "plt.legend(loc = \"upper right\")\n",
    "plt.title(\"Training and Validation Loss\")\n",
    "\n",
    "plt.show()"
   ]
  }
 ],
 "metadata": {
  "kernelspec": {
   "display_name": "Python 3 (ipykernel)",
   "language": "python",
   "name": "python3"
  },
  "language_info": {
   "codemirror_mode": {
    "name": "ipython",
    "version": 3
   },
   "file_extension": ".py",
   "mimetype": "text/x-python",
   "name": "python",
   "nbconvert_exporter": "python",
   "pygments_lexer": "ipython3",
   "version": "3.9.13"
  }
 },
 "nbformat": 4,
 "nbformat_minor": 5
}
